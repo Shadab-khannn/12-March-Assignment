{
 "cells": [
  {
   "cell_type": "code",
   "execution_count": null,
   "id": "d54587d4-faab-4683-add5-2a293afaed6c",
   "metadata": {},
   "outputs": [],
   "source": [
    "Q1. Calculate the 95% confidence interval for a sample of data with a mean of 50 and a standard deviation\n",
    "of 5 using Python. Interpret the results."
   ]
  },
  {
   "cell_type": "code",
   "execution_count": null,
   "id": "b462de58-9ce5-45fe-bd73-0d07af725374",
   "metadata": {},
   "outputs": [],
   "source": []
  },
  {
   "cell_type": "code",
   "execution_count": 1,
   "id": "e8041dce-a622-4c6a-877c-872e67162114",
   "metadata": {},
   "outputs": [
    {
     "name": "stdout",
     "output_type": "stream",
     "text": [
      "95% Confidence Interval: [49.02, 50.98]\n"
     ]
    }
   ],
   "source": [
    "import scipy.stats as st\n",
    "import numpy as np\n",
    "\n",
    "sample_mean = 50\n",
    "sample_std = 5\n",
    "n = 100 # sample size\n",
    "\n",
    "z_score = st.norm.ppf(0.975) # for 95% confidence interval\n",
    "\n",
    "lower_bound = sample_mean - z_score * (sample_std / np.sqrt(n))\n",
    "upper_bound = sample_mean + z_score * (sample_std / np.sqrt(n))\n",
    "\n",
    "print(f\"95% Confidence Interval: [{lower_bound:.2f}, {upper_bound:.2f}]\")\n"
   ]
  },
  {
   "cell_type": "code",
   "execution_count": null,
   "id": "a4e8e902-cbe8-412f-aae0-ae71fa71680e",
   "metadata": {},
   "outputs": [],
   "source": [
    "This means that we are 95% confident that the true population mean lies between 48.18 and 51.82."
   ]
  },
  {
   "cell_type": "code",
   "execution_count": null,
   "id": "f5f345d6-0513-4a4d-8ee7-551b796bd6d2",
   "metadata": {},
   "outputs": [],
   "source": []
  },
  {
   "cell_type": "code",
   "execution_count": null,
   "id": "25fcc208-be84-465c-bc99-32a23591cbbd",
   "metadata": {},
   "outputs": [],
   "source": []
  },
  {
   "cell_type": "code",
   "execution_count": null,
   "id": "0bc568c7-476c-4fde-b737-c00bc94f8a62",
   "metadata": {},
   "outputs": [],
   "source": [
    "Q2. Conduct a chi-square goodness of fit test to determine if the distribution of colors of M&Ms in a bag\n",
    "matches the expected distribution of 20% blue, 20% orange, 20% green, 10% yellow, 10% red, and 20%\n",
    "brown. Use Python to perform the test with a significance level of 0.05."
   ]
  },
  {
   "cell_type": "code",
   "execution_count": null,
   "id": "4e141864-028e-48aa-aad3-02aa3332a80e",
   "metadata": {},
   "outputs": [],
   "source": []
  },
  {
   "cell_type": "code",
   "execution_count": 1,
   "id": "1df56945-e0ae-4f41-a6f4-682e09409d94",
   "metadata": {},
   "outputs": [],
   "source": [
    "import scipy.stats as stats\n",
    "import numpy as np"
   ]
  },
  {
   "cell_type": "code",
   "execution_count": 2,
   "id": "c8d31d2a-4955-450c-851c-f94d6747949d",
   "metadata": {},
   "outputs": [],
   "source": [
    "observed_data = [20, 20, 20, 10, 10, 20] # observed values\n",
    "expected_data = [10, 20, 20, 10, 20, 20] # expected values"
   ]
  },
  {
   "cell_type": "code",
   "execution_count": 3,
   "id": "a7e12540-6107-4d8d-b94f-ecc2ef205b79",
   "metadata": {},
   "outputs": [
    {
     "data": {
      "text/plain": [
       "(100, [20, 20, 20, 10, 10, 20])"
      ]
     },
     "execution_count": 3,
     "metadata": {},
     "output_type": "execute_result"
    }
   ],
   "source": [
    "sum(expected_data) , (observed_data)"
   ]
  },
  {
   "cell_type": "code",
   "execution_count": 4,
   "id": "f4cb8554-0318-49a9-a299-0f5472c46c20",
   "metadata": {},
   "outputs": [],
   "source": [
    "chisquare_test_statistics,p_value=stats.chisquare(observed_data , expected_data)"
   ]
  },
  {
   "cell_type": "code",
   "execution_count": 5,
   "id": "3418a9e3-56b4-42e7-b2da-2e7ebf912340",
   "metadata": {},
   "outputs": [
    {
     "name": "stdout",
     "output_type": "stream",
     "text": [
      "15.0\n",
      "0.010362337915786429\n"
     ]
    },
    {
     "data": {
      "text/plain": [
       "(None, None)"
      ]
     },
     "execution_count": 5,
     "metadata": {},
     "output_type": "execute_result"
    }
   ],
   "source": [
    "print(chisquare_test_statistics) , print(p_value)"
   ]
  },
  {
   "cell_type": "code",
   "execution_count": null,
   "id": "f3c1f7fe-ccca-46f0-b2c4-24a4bfdfaee4",
   "metadata": {},
   "outputs": [],
   "source": []
  },
  {
   "cell_type": "code",
   "execution_count": null,
   "id": "93411612-ef3e-439c-805a-6fe089ff2259",
   "metadata": {},
   "outputs": [],
   "source": [
    "Q3. Use Python to calculate the chi-square statistic and p-value for a contingency table with the following\n",
    "data:"
   ]
  },
  {
   "cell_type": "markdown",
   "id": "f2a236fd-566a-4f75-a679-39867444604c",
   "metadata": {},
   "source": [
    "ANS -"
   ]
  },
  {
   "cell_type": "code",
   "execution_count": 1,
   "id": "853979cc-43af-49f8-b850-4fa468978e91",
   "metadata": {},
   "outputs": [
    {
     "name": "stdout",
     "output_type": "stream",
     "text": [
      "Chi-square statistic: 5.8333\n",
      "P-value: 0.0541\n"
     ]
    }
   ],
   "source": [
    "from scipy.stats import chi2_contingency\n",
    "\n",
    "observed = [[20 , 10 , 15], [15 , 25 , 20]]\n",
    "stat, p, dof, expected = chi2_contingency(observed)\n",
    "print(f\"Chi-square statistic: {stat:.4f}\")\n",
    "print(f\"P-value: {p:.4f}\")\n"
   ]
  },
  {
   "cell_type": "code",
   "execution_count": null,
   "id": "a2a788db-f6ed-468f-b744-a33dc880c841",
   "metadata": {},
   "outputs": [],
   "source": []
  },
  {
   "cell_type": "code",
   "execution_count": null,
   "id": "41ab79fb-7e68-4a90-9967-df0312587664",
   "metadata": {},
   "outputs": [],
   "source": []
  },
  {
   "cell_type": "code",
   "execution_count": null,
   "id": "22cf299d-861f-48a0-b494-68aa886e1bd3",
   "metadata": {},
   "outputs": [],
   "source": [
    "Q4. A study of the prevalence of smoking in a population of 500 individuals found that 60 individuals\n",
    "smoked. Use Python to calculate the 95% confidence interval for the true proportion of individuals in the\n",
    "population who smoke."
   ]
  },
  {
   "cell_type": "markdown",
   "id": "f72610d1-e8b8-4bbc-953d-60f3043af791",
   "metadata": {},
   "source": [
    "ANS - "
   ]
  },
  {
   "cell_type": "code",
   "execution_count": null,
   "id": "28bff71c-db90-4839-aa0e-71efab5b188f",
   "metadata": {},
   "outputs": [],
   "source": [
    "p ± z*sqrt(p*(1-p)/n)\n"
   ]
  },
  {
   "cell_type": "code",
   "execution_count": null,
   "id": "e1a118a5-586c-4405-add5-34858f386b93",
   "metadata": {},
   "outputs": [],
   "source": [
    "#where p is the sample proportion, z is the z-score associated with the desired level of confidence (in this case 95%), and n is the sample \n",
    "#size."
   ]
  },
  {
   "cell_type": "code",
   "execution_count": 14,
   "id": "77c24826-c165-460a-b8ef-0e9a2e0612e7",
   "metadata": {},
   "outputs": [
    {
     "data": {
      "text/plain": [
       "0.12"
      ]
     },
     "execution_count": 14,
     "metadata": {},
     "output_type": "execute_result"
    }
   ],
   "source": [
    "p = 60/500   #The z-score associated with a 95% confidence level is approximately 1.96 . Therefore, the 95% confidence \n",
    "#interval for the true proportion of individuals in the population who smoke is:"
   ]
  },
  {
   "cell_type": "code",
   "execution_count": 20,
   "id": "208fd825-1943-4f9b-8571-a323149655c9",
   "metadata": {},
   "outputs": [
    {
     "data": {
      "text/plain": [
       "0.119586048"
      ]
     },
     "execution_count": 20,
     "metadata": {},
     "output_type": "execute_result"
    }
   ],
   "source": [
    "0.12-+1.96*(0.12*(1-0.12)/500) \n"
   ]
  },
  {
   "cell_type": "code",
   "execution_count": null,
   "id": "3c2da30d-20f5-41f7-8be3-179bb9c2a111",
   "metadata": {},
   "outputs": [],
   "source": [
    "0.12 ± 1.96*sqrt(0.12*(1-0.12)/500) = [0.0808, 0.1592]\n"
   ]
  },
  {
   "cell_type": "code",
   "execution_count": null,
   "id": "65f87b26-cfe0-4c3b-9d1a-1041b1460455",
   "metadata": {},
   "outputs": [],
   "source": [
    "So we can say with 95% confidence that the true proportion of individuals in the population who smoke is between 8.08% and 15.92%."
   ]
  },
  {
   "cell_type": "code",
   "execution_count": null,
   "id": "d3efa14c-bbb5-4298-967d-0390bd1661f6",
   "metadata": {},
   "outputs": [],
   "source": []
  },
  {
   "cell_type": "code",
   "execution_count": null,
   "id": "731a1836-0140-4070-9fc2-a73162c8770f",
   "metadata": {},
   "outputs": [],
   "source": []
  },
  {
   "cell_type": "code",
   "execution_count": null,
   "id": "0a45d849-9383-491a-9da2-cb837d0b4ec3",
   "metadata": {},
   "outputs": [],
   "source": [
    "Q5. Calculate the 90% confidence interval for a sample of data with a mean of 75 and a standard deviation\n",
    "of 12 using Python. Interpret the results."
   ]
  },
  {
   "cell_type": "markdown",
   "id": "4b54c0da-16e6-4232-b744-875daaefe663",
   "metadata": {},
   "source": [
    "ANS -"
   ]
  },
  {
   "cell_type": "code",
   "execution_count": null,
   "id": "fd51497f-c3a4-4332-86c4-054652432f99",
   "metadata": {},
   "outputs": [],
   "source": [
    "Q5. Calculate the 90% confidence interval for a sample of data with a mean of 75 and a standard deviation\n",
    "of 12 using Python. Interpret the results."
   ]
  },
  {
   "cell_type": "code",
   "execution_count": 21,
   "id": "0ec278e0-8ce6-41c6-85ed-bf603d264caa",
   "metadata": {},
   "outputs": [
    {
     "name": "stdout",
     "output_type": "stream",
     "text": [
      "Lower bound: 73.00753061280433\n",
      "Upper bound: 76.99246938719567\n"
     ]
    }
   ],
   "source": [
    "import scipy.stats as stats\n",
    "\n",
    "sample_mean = 75\n",
    "sample_std_dev = 12\n",
    "sample_size = 100 # sample size is assumed to be 100 in this example\n",
    "\n",
    "confidence_level = 0.90 # 90% confidence interval\n",
    "\n",
    "t_value = stats.t.ppf((1 + confidence_level) / 2, sample_size - 1)\n",
    "\n",
    "lower_bound = sample_mean - t_value * (sample_std_dev / (sample_size ** 0.5))\n",
    "upper_bound = sample_mean + t_value * (sample_std_dev / (sample_size ** 0.5))\n",
    "\n",
    "print(\"Lower bound:\", lower_bound)\n",
    "print(\"Upper bound:\", upper_bound)"
   ]
  },
  {
   "cell_type": "code",
   "execution_count": null,
   "id": "20c8be80-d9af-4ae8-a165-99eebc491d89",
   "metadata": {},
   "outputs": [],
   "source": []
  },
  {
   "cell_type": "code",
   "execution_count": null,
   "id": "f20bc96b-f9b5-4be3-99da-28e40b750b88",
   "metadata": {},
   "outputs": [],
   "source": []
  },
  {
   "cell_type": "code",
   "execution_count": null,
   "id": "8b163134-b3f0-4fcd-b9ba-4faa4462c02e",
   "metadata": {},
   "outputs": [],
   "source": [
    "Q6. Use Python to plot the chi-square distribution with 10 degrees of freedom. Label the axes and shade the\n",
    "area corresponding to a chi-square statistic of 15."
   ]
  },
  {
   "cell_type": "markdown",
   "id": "79d439c6-ec30-47e1-9edb-0e0f91900e7f",
   "metadata": {},
   "source": [
    "ANS-"
   ]
  },
  {
   "cell_type": "code",
   "execution_count": 22,
   "id": "4714f11e-786b-4d14-9953-e4d9f58badbb",
   "metadata": {},
   "outputs": [
    {
     "data": {
      "image/png": "[encoded data removed]",
      "text/plain": [
       "<Figure size 800x400 with 1 Axes>"
      ]
     },
     "metadata": {},
     "output_type": "display_data"
    }
   ],
   "source": [
    "import numpy as np\n",
    "import matplotlib.pyplot as plt\n",
    "from scipy.stats import chi2\n",
    "\n",
    "df = 10 # degrees of freedom\n",
    "x = np.linspace(0, 30, 1000)\n",
    "y = chi2.pdf(x, df)\n",
    "\n",
    "fig, ax = plt.subplots(figsize=(8, 4))\n",
    "ax.plot(x, y, 'b-', lw=2, alpha=0.6)\n",
    "\n",
    "# Shade the area corresponding to a chi-square statistic of 15.6\n",
    "start = 0\n",
    "end = 15.6\n",
    "x_fill = np.linspace(start, end, 100)\n",
    "y_fill = chi2.pdf(x_fill, df)\n",
    "ax.fill_between(x_fill, y_fill, 0, alpha=0.3)\n",
    "\n",
    "# Label the axes\n",
    "ax.set_xlabel('Chi-Square Statistic')\n",
    "ax.set_ylabel('Probability Density')\n",
    "ax.set_title('Chi-Square Distribution with 10 Degrees of Freedom')\n",
    "\n",
    "plt.show()\n"
   ]
  },
  {
   "cell_type": "code",
   "execution_count": null,
   "id": "9e6e8536-ef8d-4934-84b3-b7104426984b",
   "metadata": {},
   "outputs": [],
   "source": []
  },
  {
   "cell_type": "code",
   "execution_count": null,
   "id": "18e83765-364c-4072-afbc-ffe03d3d3a36",
   "metadata": {},
   "outputs": [],
   "source": []
  },
  {
   "cell_type": "code",
   "execution_count": null,
   "id": "b7caf53c-51e4-49cc-b306-7245a6104610",
   "metadata": {},
   "outputs": [],
   "source": [
    "Q7. A random sample of 1000 people was asked if they preferred Coke or Pepsi. Of the sample, 520\n",
    "preferred Coke. Calculate a 99% confidence interval for the true proportion of people in the population who\n",
    "prefer Coke."
   ]
  },
  {
   "cell_type": "markdown",
   "id": "74d6e7c8-f30c-41a8-b816-527fb45e90fa",
   "metadata": {},
   "source": [
    "ANS -"
   ]
  },
  {
   "cell_type": "code",
   "execution_count": null,
   "id": "45d3dbd8-1009-4fd8-a131-3bd5de5bd6df",
   "metadata": {},
   "outputs": [],
   "source": [
    "Confidence Interval = p +/- z*√p (1-p) / n\n",
    "\n",
    "where:\n",
    "\n",
    "p: sample proportion\n",
    "z: the chosen z-value\n",
    "n: sample size\n",
    "\n",
    "Given that a random sample of 1000 people was asked if they preferred Coke or Pepsi and that 520 preferred Coke, we can calculate the\n",
    "sample proportion as follows:"
   ]
  },
  {
   "cell_type": "code",
   "execution_count": 23,
   "id": "01db9180-329d-44f7-9a5d-0215da09bfb2",
   "metadata": {},
   "outputs": [
    {
     "data": {
      "text/plain": [
       "0.52"
      ]
     },
     "execution_count": 23,
     "metadata": {},
     "output_type": "execute_result"
    }
   ],
   "source": [
    "520/1000 "
   ]
  },
  {
   "cell_type": "code",
   "execution_count": null,
   "id": "dec0f619-8e9b-49c0-b5b9-fe9d32c67107",
   "metadata": {},
   "outputs": [],
   "source": [
    "To find the z-value for a 99% confidence interval, we can use a standard normal distribution table or calculator. The z-value for a 99% \n",
    "confidence interval is approximately 2.5761.\n",
    "Substituting these values into the formula above, we get:"
   ]
  },
  {
   "cell_type": "code",
   "execution_count": null,
   "id": "6dd487f4-1f83-4dec-a9b0-a82330ce16b5",
   "metadata": {},
   "outputs": [],
   "source": [
    "Confidence Interval = 0.52 +/- 2.576*√(0.52 * (1-0.52) / 1000)\n",
    "\n",
    "Confidence Interval = (0.48, 0.56)\n",
    "\n",
    "Therefore, we can say with 99% confidence that the true proportion of people in the population who prefer Coke is between 0.48 and 0.56."
   ]
  },
  {
   "cell_type": "code",
   "execution_count": null,
   "id": "f4700347-dec7-4b52-b70e-90f4bb099a48",
   "metadata": {},
   "outputs": [],
   "source": []
  },
  {
   "cell_type": "code",
   "execution_count": null,
   "id": "007fc99c-b194-49b8-a8c1-f2c47dca741a",
   "metadata": {},
   "outputs": [],
   "source": []
  },
  {
   "cell_type": "code",
   "execution_count": null,
   "id": "3ed3e1af-4f9a-4560-9d79-716c13f01e4b",
   "metadata": {},
   "outputs": [],
   "source": [
    "Q8. A researcher hypothesizes that a coin is biased towards tails. They flip the coin 100 times and observe\n",
    "45 tails. Conduct a chi-square goodness of fit test to determine if the observed frequencies match the\n",
    "expected frequencies of a fair coin. Use a significance level of 0.05."
   ]
  },
  {
   "cell_type": "markdown",
   "id": "f2596b2c-7565-4e50-8494-74688ff175e4",
   "metadata": {},
   "source": [
    "ANS -"
   ]
  },
  {
   "cell_type": "code",
   "execution_count": null,
   "id": "b17da993-d175-4ec5-8757-c3ba5c0e7480",
   "metadata": {},
   "outputs": [],
   "source": [
    "Null hypothesis: The coin is fair (not biased towards tails).\n",
    "Alternative hypothesis: The coin is biased towards tails.\n",
    "Level of significance (alpha): 0.05.\n",
    "Observed frequency of tails: 45.\n",
    "Expected frequency of tails: 50.\n",
    "The expected frequency of heads is 50 as well since it is a fair coin.\n",
    "\n",
    "We can calculate the test statistic using the formula:\n",
    "\n",
    "χ2 = ∑(O−E)2/E\n",
    "\n",
    "where:\n",
    "\n",
    "χ2 is the test statistic\n",
    "O is the observed frequency\n",
    "E is the expected frequency\n",
    "Substituting in our values, we get:\n",
    "\n",
    "χ2 = ((45−50)2/50) + ((55−50)2/50) = 1\n",
    "\n",
    "The critical value for a chi-square goodness of fit test with one degree of freedom and alpha = 0.05 is 3.84.\n",
    "\n",
    "Since our calculated test statistic (1) is less than our critical value (3.84), we fail to reject the null hypothesis and conclude that there \n",
    "is not enough evidence to suggest that the coin is biased towards tails"
   ]
  },
  {
   "cell_type": "code",
   "execution_count": null,
   "id": "bd5b3492-79a4-4383-a7f9-1ef03fd7789c",
   "metadata": {},
   "outputs": [],
   "source": []
  },
  {
   "cell_type": "code",
   "execution_count": null,
   "id": "5af15279-2fce-4fa9-9ad3-069bf969426a",
   "metadata": {},
   "outputs": [],
   "source": []
  },
  {
   "cell_type": "code",
   "execution_count": null,
   "id": "f166cf3a-59e3-4630-a75c-bd5469679806",
   "metadata": {},
   "outputs": [],
   "source": [
    "Q10. A study was conducted to determine if the proportion of people who prefer milk chocolate, dark\n",
    "chocolate, or white chocolate is different in the U.S. versus the U.K. A random sample of 500 people from\n",
    "the U.S. and a random sample of 500 people from the U.K. were surveyed. The results are shown in the\n",
    "contingency table below. Conduct a chi-square test for independence to determine if there is a significant\n",
    "association between chocolate preference and country of origin."
   ]
  },
  {
   "cell_type": "markdown",
   "id": "e67575e8-62cb-4cb0-907e-0267ec4ff8b2",
   "metadata": {},
   "source": [
    "ANS -"
   ]
  },
  {
   "cell_type": "code",
   "execution_count": null,
   "id": "f27e3e32-ded2-4e17-8bf3-eca3b8928c9b",
   "metadata": {},
   "outputs": [],
   "source": []
  },
  {
   "cell_type": "code",
   "execution_count": null,
   "id": "24d27c97-4cce-4fb9-b698-289fffd5a54e",
   "metadata": {},
   "outputs": [],
   "source": [
    "Q11. A random sample of 30 people was selected from a population with an unknown mean and standard\n",
    "deviation. The sample mean was found to be 72 and the sample standard deviation was found to be 10.\n",
    "Conduct a hypothesis test to determine if the population mean is significantly different from 70. Use a\n",
    "significance level of 0.05."
   ]
  },
  {
   "cell_type": "markdown",
   "id": "adbe738d-48c4-4fb4-a21c-46980b730233",
   "metadata": {},
   "source": [
    "ANS -"
   ]
  },
  {
   "cell_type": "markdown",
   "id": "9a1ca028-2bcb-4e59-8b9f-4e435eb779d7",
   "metadata": {},
   "source": [
    "The test statistic is calculated as follows:\n",
    "\n",
    "t = (sample mean - hypothesized mean) / (sample standard deviation / sqrt(sample size)) t = (72 - 70) / (10 / sqrt(30)) t = 1.897\n",
    "\n",
    "The degrees of freedom for this test are n - 1 = 29. Using a t-distribution table with 29 degrees of freedom and a significance level of 0.05, we find that the critical values are -2.045 and 2.045.\n",
    "\n",
    "Since our calculated t-value of 1.897 falls between these critical values, we fail to reject the null hypothesis. Therefore, we do not have sufficient evidence to conclude that the population mean is significantly different from 70 at the 0.05 level of significance."
   ]
  },
  {
   "cell_type": "code",
   "execution_count": null,
   "id": "9c9b5caa-f99c-4dd8-87aa-838fe971d0c6",
   "metadata": {},
   "outputs": [],
   "source": []
  }
 ],
 "metadata": {
  "kernelspec": {
   "display_name": "Python 3 (ipykernel)",
   "language": "python",
   "name": "python3"
  },
  "language_info": {
   "codemirror_mode": {
    "name": "ipython",
    "version": 3
   },
   "file_extension": ".py",
   "mimetype": "text/x-python",
   "name": "python",
   "nbconvert_exporter": "python",
   "pygments_lexer": "ipython3",
   "version": "3.10.8"
  }
 },
 "nbformat": 4,
 "nbformat_minor": 5
}
